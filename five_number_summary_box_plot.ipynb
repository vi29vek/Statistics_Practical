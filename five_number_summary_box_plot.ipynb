{
 "cells": [
  {
   "cell_type": "markdown",
   "id": "b2ba9a48",
   "metadata": {},
   "source": [
    "# We use boxplotting to find the outliers in our data.\n",
    "\n",
    "Outliers - An outlier is an observation that lies an abnormal distance from other values in a random sample from a population.\n",
    "           Outliers are extreme values that stand out greatly from the overall pattern of values in a dataset or graph.\n",
    "\n",
    "Disadvantages- It can decrease normality. \n",
    "               It increases the error variance and reduces the power of statistical tests. \n",
    "               They can cause bias and/or influence estimates.\n",
    "               They can also impact the basic assumption of regression as well as other statistical models."
   ]
  },
  {
   "cell_type": "code",
   "execution_count": 1,
   "id": "4ba8aaa1",
   "metadata": {},
   "outputs": [],
   "source": [
    "import numpy as np\n",
    "import seaborn as sns"
   ]
  },
  {
   "cell_type": "code",
   "execution_count": 2,
   "id": "63781803",
   "metadata": {},
   "outputs": [],
   "source": [
    "sample_data = np.array([1,2,2,2,3,3,3,4,5,5,5,6,6,6,6,7,8,8,9])"
   ]
  },
  {
   "cell_type": "code",
   "execution_count": 3,
   "id": "c18f0756",
   "metadata": {},
   "outputs": [
    {
     "data": {
      "text/plain": [
       "1"
      ]
     },
     "execution_count": 3,
     "metadata": {},
     "output_type": "execute_result"
    }
   ],
   "source": [
    "np.min([sample_data])"
   ]
  },
  {
   "cell_type": "code",
   "execution_count": 4,
   "id": "278957d8",
   "metadata": {},
   "outputs": [
    {
     "data": {
      "text/plain": [
       "array([3.])"
      ]
     },
     "execution_count": 4,
     "metadata": {},
     "output_type": "execute_result"
    }
   ],
   "source": [
    "np.percentile(sample_data,[25])"
   ]
  },
  {
   "cell_type": "code",
   "execution_count": 5,
   "id": "ca00220f",
   "metadata": {},
   "outputs": [
    {
     "data": {
      "text/plain": [
       "array([6.])"
      ]
     },
     "execution_count": 5,
     "metadata": {},
     "output_type": "execute_result"
    }
   ],
   "source": [
    "np.percentile(sample_data,[75])"
   ]
  },
  {
   "cell_type": "code",
   "execution_count": 6,
   "id": "aac53836",
   "metadata": {},
   "outputs": [
    {
     "data": {
      "text/plain": [
       "9"
      ]
     },
     "execution_count": 6,
     "metadata": {},
     "output_type": "execute_result"
    }
   ],
   "source": [
    "np.max(sample_data)"
   ]
  },
  {
   "cell_type": "code",
   "execution_count": 7,
   "id": "283c0d28",
   "metadata": {},
   "outputs": [
    {
     "data": {
      "text/plain": [
       "5.0"
      ]
     },
     "execution_count": 7,
     "metadata": {},
     "output_type": "execute_result"
    }
   ],
   "source": [
    "np.median(sample_data)"
   ]
  },
  {
   "cell_type": "code",
   "execution_count": 8,
   "id": "331e6b91",
   "metadata": {},
   "outputs": [
    {
     "name": "stderr",
     "output_type": "stream",
     "text": [
      "C:\\Users\\kumar\\anaconda3\\lib\\site-packages\\seaborn\\_decorators.py:36: FutureWarning: Pass the following variable as a keyword arg: x. From version 0.12, the only valid positional argument will be `data`, and passing other arguments without an explicit keyword will result in an error or misinterpretation.\n",
      "  warnings.warn(\n"
     ]
    },
    {
     "data": {
      "text/plain": [
       "<AxesSubplot:>"
      ]
     },
     "execution_count": 8,
     "metadata": {},
     "output_type": "execute_result"
    },
    {
     "data": {
      "image/png": "[encoded data removed]",
      "text/plain": [
       "<Figure size 432x288 with 1 Axes>"
      ]
     },
     "metadata": {
      "needs_background": "light"
     },
     "output_type": "display_data"
    }
   ],
   "source": [
    "sns.boxplot(sample_data)"
   ]
  },
  {
   "cell_type": "raw",
   "id": "65b3bd78",
   "metadata": {},
   "source": [
    "In the above grapgh, first point is minimum value.\n",
    "Second is 25 percentile.\n",
    "Third is median point.\n",
    "Fourth is 75 percentile.\n",
    "Fifth is the maximum point."
   ]
  },
  {
   "cell_type": "code",
   "execution_count": null,
   "id": "8546e0ca",
   "metadata": {},
   "outputs": [],
   "source": []
  }
 ],
 "metadata": {
  "kernelspec": {
   "display_name": "Python 3 (ipykernel)",
   "language": "python",
   "name": "python3"
  },
  "language_info": {
   "codemirror_mode": {
    "name": "ipython",
    "version": 3
   },
   "file_extension": ".py",
   "mimetype": "text/x-python",
   "name": "python",
   "nbconvert_exporter": "python",
   "pygments_lexer": "ipython3",
   "version": "3.9.12"
  }
 },
 "nbformat": 4,
 "nbformat_minor": 5
}
